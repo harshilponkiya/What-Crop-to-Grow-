{
 "cells": [
  {
   "cell_type": "markdown",
   "id": "d84e4912",
   "metadata": {},
   "source": [
    "## Name:- Ponkiya Harshilkumar\n",
    "### IIRS Reg. No.:- daiict202319002 (TS90705)\n",
    "### Project:- What Crop to Grow!"
   ]
  },
  {
   "cell_type": "markdown",
   "id": "43a96b34",
   "metadata": {},
   "source": [
    "  - Precision agirculture is in trend nowadays. Precision agriculture is a modern farming technique that uses the data of soil charachteristics, soil types, crop yield data, weather conditions and suggests the farmers with the most optimal crop to grow in their farms for maximum yield and profit. This technique can reduce the crop failures and will help the farmers to take informed decision about their farming strategy.\n",
    "  - In order to mitigate the agrarian crisis in the current status quo, there is a need for better recommendation systems to alleviate the crisis by helping the farmers to make an informed decision before starting the cultivation of crops."
   ]
  },
  {
   "cell_type": "markdown",
   "id": "452148f5",
   "metadata": {},
   "source": [
    "### Target :- \n",
    "           To recommend optimum crops to be cultivated by farmers based on several parameters and help them make an informed      decision before cultivation\n"
   ]
  },
  {
   "cell_type": "markdown",
   "id": "a67f91ba",
   "metadata": {},
   "source": [
    "### About the data\n",
    "\n",
    "       The data used in this project is taken from kaggle.com, you can access the dataset from given  link:https://www.kaggle.com/datasets/atharvaingle/crop-recommendation-dataset. \n",
    "        \n",
    "       The data have Nitrogen,Phosphorous, Pottasium and pH values of the soil. Also, it also contains the humidity, temperature and rainfall required for a particular crop."
   ]
  },
  {
   "cell_type": "code",
   "execution_count": 1,
   "id": "5fe603bf",
   "metadata": {},
   "outputs": [
    {
     "name": "stdout",
     "output_type": "stream",
     "text": [
      "Defaulting to user installation because normal site-packages is not writeable\n",
      "Requirement already satisfied: ydata_Profiling in c:\\users\\asus\\appdata\\roaming\\python\\python311\\site-packages (4.6.4)\n",
      "Requirement already satisfied: scipy<1.12,>=1.4.1 in c:\\programdata\\anaconda3\\lib\\site-packages (from ydata_Profiling) (1.10.1)\n",
      "Requirement already satisfied: pandas!=1.4.0,<3,>1.1 in c:\\programdata\\anaconda3\\lib\\site-packages (from ydata_Profiling) (1.5.3)\n",
      "Requirement already satisfied: matplotlib<3.9,>=3.2 in c:\\programdata\\anaconda3\\lib\\site-packages (from ydata_Profiling) (3.7.1)\n",
      "Requirement already satisfied: pydantic>=2 in c:\\users\\asus\\appdata\\roaming\\python\\python311\\site-packages (from ydata_Profiling) (2.6.0)\n",
      "Requirement already satisfied: PyYAML<6.1,>=5.0.0 in c:\\programdata\\anaconda3\\lib\\site-packages (from ydata_Profiling) (6.0)\n",
      "Requirement already satisfied: jinja2<3.2,>=2.11.1 in c:\\programdata\\anaconda3\\lib\\site-packages (from ydata_Profiling) (3.1.2)\n",
      "Requirement already satisfied: visions[type_image_path]==0.7.5 in c:\\users\\asus\\appdata\\roaming\\python\\python311\\site-packages (from ydata_Profiling) (0.7.5)\n",
      "Requirement already satisfied: numpy<1.26,>=1.16.0 in c:\\programdata\\anaconda3\\lib\\site-packages (from ydata_Profiling) (1.24.3)\n",
      "Requirement already satisfied: htmlmin==0.1.12 in c:\\users\\asus\\appdata\\roaming\\python\\python311\\site-packages (from ydata_Profiling) (0.1.12)\n",
      "Requirement already satisfied: phik<0.13,>=0.11.1 in c:\\users\\asus\\appdata\\roaming\\python\\python311\\site-packages (from ydata_Profiling) (0.12.4)\n",
      "Requirement already satisfied: requests<3,>=2.24.0 in c:\\programdata\\anaconda3\\lib\\site-packages (from ydata_Profiling) (2.31.0)\n",
      "Requirement already satisfied: tqdm<5,>=4.48.2 in c:\\programdata\\anaconda3\\lib\\site-packages (from ydata_Profiling) (4.65.0)\n",
      "Requirement already satisfied: seaborn<0.13,>=0.10.1 in c:\\programdata\\anaconda3\\lib\\site-packages (from ydata_Profiling) (0.12.2)\n",
      "Requirement already satisfied: multimethod<2,>=1.4 in c:\\users\\asus\\appdata\\roaming\\python\\python311\\site-packages (from ydata_Profiling) (1.11)\n",
      "Requirement already satisfied: statsmodels<1,>=0.13.2 in c:\\programdata\\anaconda3\\lib\\site-packages (from ydata_Profiling) (0.14.0)\n",
      "Requirement already satisfied: typeguard<5,>=4.1.2 in c:\\users\\asus\\appdata\\roaming\\python\\python311\\site-packages (from ydata_Profiling) (4.1.5)\n",
      "Requirement already satisfied: imagehash==4.3.1 in c:\\users\\asus\\appdata\\roaming\\python\\python311\\site-packages (from ydata_Profiling) (4.3.1)\n",
      "Requirement already satisfied: wordcloud>=1.9.1 in c:\\users\\asus\\appdata\\roaming\\python\\python311\\site-packages (from ydata_Profiling) (1.9.3)\n",
      "Requirement already satisfied: dacite>=1.8 in c:\\users\\asus\\appdata\\roaming\\python\\python311\\site-packages (from ydata_Profiling) (1.8.1)\n",
      "Requirement already satisfied: numba<0.59.0,>=0.56.0 in c:\\programdata\\anaconda3\\lib\\site-packages (from ydata_Profiling) (0.57.0)\n",
      "Requirement already satisfied: PyWavelets in c:\\programdata\\anaconda3\\lib\\site-packages (from imagehash==4.3.1->ydata_Profiling) (1.4.1)\n",
      "Requirement already satisfied: pillow in c:\\users\\asus\\appdata\\roaming\\python\\python311\\site-packages (from imagehash==4.3.1->ydata_Profiling) (10.2.0)\n",
      "Requirement already satisfied: attrs>=19.3.0 in c:\\programdata\\anaconda3\\lib\\site-packages (from visions[type_image_path]==0.7.5->ydata_Profiling) (22.1.0)\n",
      "Requirement already satisfied: networkx>=2.4 in c:\\programdata\\anaconda3\\lib\\site-packages (from visions[type_image_path]==0.7.5->ydata_Profiling) (3.1)\n",
      "Requirement already satisfied: tangled-up-in-unicode>=0.0.4 in c:\\users\\asus\\appdata\\roaming\\python\\python311\\site-packages (from visions[type_image_path]==0.7.5->ydata_Profiling) (0.2.0)\n",
      "Requirement already satisfied: MarkupSafe>=2.0 in c:\\programdata\\anaconda3\\lib\\site-packages (from jinja2<3.2,>=2.11.1->ydata_Profiling) (2.1.1)\n",
      "Requirement already satisfied: contourpy>=1.0.1 in c:\\programdata\\anaconda3\\lib\\site-packages (from matplotlib<3.9,>=3.2->ydata_Profiling) (1.0.5)\n",
      "Requirement already satisfied: cycler>=0.10 in c:\\programdata\\anaconda3\\lib\\site-packages (from matplotlib<3.9,>=3.2->ydata_Profiling) (0.11.0)\n",
      "Requirement already satisfied: fonttools>=4.22.0 in c:\\programdata\\anaconda3\\lib\\site-packages (from matplotlib<3.9,>=3.2->ydata_Profiling) (4.25.0)\n",
      "Requirement already satisfied: kiwisolver>=1.0.1 in c:\\programdata\\anaconda3\\lib\\site-packages (from matplotlib<3.9,>=3.2->ydata_Profiling) (1.4.4)\n",
      "Requirement already satisfied: packaging>=20.0 in c:\\programdata\\anaconda3\\lib\\site-packages (from matplotlib<3.9,>=3.2->ydata_Profiling) (23.0)\n",
      "Requirement already satisfied: pyparsing>=2.3.1 in c:\\programdata\\anaconda3\\lib\\site-packages (from matplotlib<3.9,>=3.2->ydata_Profiling) (3.0.9)\n",
      "Requirement already satisfied: python-dateutil>=2.7 in c:\\programdata\\anaconda3\\lib\\site-packages (from matplotlib<3.9,>=3.2->ydata_Profiling) (2.8.2)\n",
      "Requirement already satisfied: llvmlite<0.41,>=0.40.0dev0 in c:\\programdata\\anaconda3\\lib\\site-packages (from numba<0.59.0,>=0.56.0->ydata_Profiling) (0.40.0)\n",
      "Requirement already satisfied: pytz>=2020.1 in c:\\programdata\\anaconda3\\lib\\site-packages (from pandas!=1.4.0,<3,>1.1->ydata_Profiling) (2022.7)\n",
      "Requirement already satisfied: joblib>=0.14.1 in c:\\users\\asus\\appdata\\roaming\\python\\python311\\site-packages (from phik<0.13,>=0.11.1->ydata_Profiling) (1.1.1)\n",
      "Requirement already satisfied: annotated-types>=0.4.0 in c:\\users\\asus\\appdata\\roaming\\python\\python311\\site-packages (from pydantic>=2->ydata_Profiling) (0.6.0)\n",
      "Requirement already satisfied: pydantic-core==2.16.1 in c:\\users\\asus\\appdata\\roaming\\python\\python311\\site-packages (from pydantic>=2->ydata_Profiling) (2.16.1)\n",
      "Requirement already satisfied: typing-extensions>=4.6.1 in c:\\programdata\\anaconda3\\lib\\site-packages (from pydantic>=2->ydata_Profiling) (4.7.1)\n",
      "Requirement already satisfied: charset-normalizer<4,>=2 in c:\\programdata\\anaconda3\\lib\\site-packages (from requests<3,>=2.24.0->ydata_Profiling) (2.0.4)\n",
      "Requirement already satisfied: idna<4,>=2.5 in c:\\programdata\\anaconda3\\lib\\site-packages (from requests<3,>=2.24.0->ydata_Profiling) (3.4)\n",
      "Requirement already satisfied: urllib3<3,>=1.21.1 in c:\\programdata\\anaconda3\\lib\\site-packages (from requests<3,>=2.24.0->ydata_Profiling) (1.26.16)\n",
      "Requirement already satisfied: certifi>=2017.4.17 in c:\\programdata\\anaconda3\\lib\\site-packages (from requests<3,>=2.24.0->ydata_Profiling) (2023.7.22)\n",
      "Requirement already satisfied: patsy>=0.5.2 in c:\\programdata\\anaconda3\\lib\\site-packages (from statsmodels<1,>=0.13.2->ydata_Profiling) (0.5.3)\n",
      "Requirement already satisfied: colorama in c:\\programdata\\anaconda3\\lib\\site-packages (from tqdm<5,>=4.48.2->ydata_Profiling) (0.4.6)\n",
      "Requirement already satisfied: six in c:\\programdata\\anaconda3\\lib\\site-packages (from patsy>=0.5.2->statsmodels<1,>=0.13.2->ydata_Profiling) (1.16.0)\n",
      "Defaulting to user installation because normal site-packages is not writeable\n",
      "Requirement already satisfied: Pillow in c:\\users\\asus\\appdata\\roaming\\python\\python311\\site-packages (10.2.0)\n"
     ]
    }
   ],
   "source": [
    "# Importing Libraries\n",
    "\n",
    "import pandas as pd\n",
    "import numpy as np\n",
    "import matplotlib.pyplot as plt\n",
    "import seaborn as sns\n",
    "from sklearn.metrics import classification_report\n",
    "from sklearn import metrics\n",
    "from sklearn import tree\n",
    "\n",
    "\n",
    "!pip install ydata_Profiling\n",
    "!pip install --upgrade Pillow"
   ]
  },
  {
   "cell_type": "code",
   "execution_count": 2,
   "id": "89bcfae3",
   "metadata": {},
   "outputs": [
    {
     "name": "stdout",
     "output_type": "stream",
     "text": [
      "The shape of our dataset is: (2200, 8)\n"
     ]
    }
   ],
   "source": [
    "# Importing a dataset\n",
    "\n",
    "df = pd.read_csv('crop_recommendation.csv')\n",
    "print(\"The shape of our dataset is:\",df.shape)"
   ]
  },
  {
   "cell_type": "code",
   "execution_count": 3,
   "id": "5bdf52f0",
   "metadata": {},
   "outputs": [
    {
     "data": {
      "text/html": [
       "<div>\n",
       "<style scoped>\n",
       "    .dataframe tbody tr th:only-of-type {\n",
       "        vertical-align: middle;\n",
       "    }\n",
       "\n",
       "    .dataframe tbody tr th {\n",
       "        vertical-align: top;\n",
       "    }\n",
       "\n",
       "    .dataframe thead th {\n",
       "        text-align: right;\n",
       "    }\n",
       "</style>\n",
       "<table border=\"1\" class=\"dataframe\">\n",
       "  <thead>\n",
       "    <tr style=\"text-align: right;\">\n",
       "      <th></th>\n",
       "      <th>N</th>\n",
       "      <th>P</th>\n",
       "      <th>K</th>\n",
       "      <th>temperature</th>\n",
       "      <th>humidity</th>\n",
       "      <th>ph</th>\n",
       "      <th>rainfall</th>\n",
       "      <th>label</th>\n",
       "    </tr>\n",
       "  </thead>\n",
       "  <tbody>\n",
       "    <tr>\n",
       "      <th>2168</th>\n",
       "      <td>112</td>\n",
       "      <td>39</td>\n",
       "      <td>29</td>\n",
       "      <td>26.124922</td>\n",
       "      <td>63.374792</td>\n",
       "      <td>6.726529</td>\n",
       "      <td>147.803530</td>\n",
       "      <td>coffee</td>\n",
       "    </tr>\n",
       "    <tr>\n",
       "      <th>1751</th>\n",
       "      <td>33</td>\n",
       "      <td>47</td>\n",
       "      <td>46</td>\n",
       "      <td>29.203009</td>\n",
       "      <td>93.968340</td>\n",
       "      <td>6.839444</td>\n",
       "      <td>209.408331</td>\n",
       "      <td>papaya</td>\n",
       "    </tr>\n",
       "    <tr>\n",
       "      <th>592</th>\n",
       "      <td>40</td>\n",
       "      <td>55</td>\n",
       "      <td>18</td>\n",
       "      <td>30.382579</td>\n",
       "      <td>40.592607</td>\n",
       "      <td>7.115994</td>\n",
       "      <td>47.954065</td>\n",
       "      <td>mothbeans</td>\n",
       "    </tr>\n",
       "    <tr>\n",
       "      <th>451</th>\n",
       "      <td>24</td>\n",
       "      <td>73</td>\n",
       "      <td>20</td>\n",
       "      <td>19.637362</td>\n",
       "      <td>32.315289</td>\n",
       "      <td>4.608695</td>\n",
       "      <td>176.413409</td>\n",
       "      <td>pigeonpeas</td>\n",
       "    </tr>\n",
       "    <tr>\n",
       "      <th>248</th>\n",
       "      <td>57</td>\n",
       "      <td>60</td>\n",
       "      <td>84</td>\n",
       "      <td>19.103428</td>\n",
       "      <td>17.261845</td>\n",
       "      <td>6.586777</td>\n",
       "      <td>75.491012</td>\n",
       "      <td>chickpea</td>\n",
       "    </tr>\n",
       "  </tbody>\n",
       "</table>\n",
       "</div>"
      ],
      "text/plain": [
       "        N   P   K  temperature   humidity        ph    rainfall       label\n",
       "2168  112  39  29    26.124922  63.374792  6.726529  147.803530      coffee\n",
       "1751   33  47  46    29.203009  93.968340  6.839444  209.408331      papaya\n",
       "592    40  55  18    30.382579  40.592607  7.115994   47.954065   mothbeans\n",
       "451    24  73  20    19.637362  32.315289  4.608695  176.413409  pigeonpeas\n",
       "248    57  60  84    19.103428  17.261845  6.586777   75.491012    chickpea"
      ]
     },
     "execution_count": 3,
     "metadata": {},
     "output_type": "execute_result"
    }
   ],
   "source": [
    "# Here, we are trying to look at some samples from our dataset.\n",
    "\n",
    "df.sample(5)"
   ]
  },
  {
   "cell_type": "markdown",
   "id": "e3d60dcb",
   "metadata": {},
   "source": [
    "### Now, we are doing EDA With Pandas Profiling to understand our data."
   ]
  },
  {
   "cell_type": "code",
   "execution_count": 4,
   "id": "1ba1401e",
   "metadata": {},
   "outputs": [
    {
     "data": {
      "application/vnd.jupyter.widget-view+json": {
       "model_id": "5326e4291d2441ffaa976843ec59a45e",
       "version_major": 2,
       "version_minor": 0
      },
      "text/plain": [
       "Summarize dataset:   0%|          | 0/5 [00:00<?, ?it/s]"
      ]
     },
     "metadata": {},
     "output_type": "display_data"
    },
    {
     "data": {
      "application/vnd.jupyter.widget-view+json": {
       "model_id": "cbf825ad853c43639a84edfe50d2ec54",
       "version_major": 2,
       "version_minor": 0
      },
      "text/plain": [
       "Generate report structure:   0%|          | 0/1 [00:00<?, ?it/s]"
      ]
     },
     "metadata": {},
     "output_type": "display_data"
    },
    {
     "data": {
      "application/vnd.jupyter.widget-view+json": {
       "model_id": "9f68913af8a642f3b73b7b2e2892a3ab",
       "version_major": 2,
       "version_minor": 0
      },
      "text/plain": [
       "Render HTML:   0%|          | 0/1 [00:00<?, ?it/s]"
      ]
     },
     "metadata": {},
     "output_type": "display_data"
    },
    {
     "data": {
      "application/vnd.jupyter.widget-view+json": {
       "model_id": "8d6fce6475864b45b97efa6d7af0de8d",
       "version_major": 2,
       "version_minor": 0
      },
      "text/plain": [
       "Export report to file:   0%|          | 0/1 [00:00<?, ?it/s]"
      ]
     },
     "metadata": {},
     "output_type": "display_data"
    }
   ],
   "source": [
    "# !pip install ydata_Profiling\n",
    "\n",
    "from ydata_profiling import ProfileReport\n",
    "prof = ProfileReport(df)\n",
    "prof.to_file(output_file = 'EDA_By_Pandas_Profiling_Report.html')"
   ]
  },
  {
   "cell_type": "code",
   "execution_count": 5,
   "id": "4aefc069",
   "metadata": {},
   "outputs": [
    {
     "data": {
      "text/plain": [
       "array(['rice', 'maize', 'chickpea', 'kidneybeans', 'pigeonpeas',\n",
       "       'mothbeans', 'mungbean', 'blackgram', 'lentil', 'pomegranate',\n",
       "       'banana', 'mango', 'grapes', 'watermelon', 'muskmelon', 'apple',\n",
       "       'orange', 'papaya', 'coconut', 'cotton', 'jute', 'coffee'],\n",
       "      dtype=object)"
      ]
     },
     "execution_count": 5,
     "metadata": {},
     "output_type": "execute_result"
    }
   ],
   "source": [
    "# We are trying to identify different crop names available in label feature.\n",
    "\n",
    "df['label'].unique()\n"
   ]
  },
  {
   "cell_type": "code",
   "execution_count": 6,
   "id": "d67cfe94",
   "metadata": {},
   "outputs": [
    {
     "data": {
      "text/plain": [
       "rice           100\n",
       "maize          100\n",
       "jute           100\n",
       "cotton         100\n",
       "coconut        100\n",
       "papaya         100\n",
       "orange         100\n",
       "apple          100\n",
       "muskmelon      100\n",
       "watermelon     100\n",
       "grapes         100\n",
       "mango          100\n",
       "banana         100\n",
       "pomegranate    100\n",
       "lentil         100\n",
       "blackgram      100\n",
       "mungbean       100\n",
       "mothbeans      100\n",
       "pigeonpeas     100\n",
       "kidneybeans    100\n",
       "chickpea       100\n",
       "coffee         100\n",
       "Name: label, dtype: int64"
      ]
     },
     "execution_count": 6,
     "metadata": {},
     "output_type": "execute_result"
    }
   ],
   "source": [
    "# Trying to identify per crops how many samples available in our dataset.\n",
    "\n",
    "df['label'].value_counts()"
   ]
  },
  {
   "cell_type": "markdown",
   "id": "7a3e5a44",
   "metadata": {},
   "source": [
    "### Now, here trying to separating features and target label\n",
    "\n"
   ]
  },
  {
   "cell_type": "code",
   "execution_count": 7,
   "id": "7ff3b651",
   "metadata": {},
   "outputs": [],
   "source": [
    "features = df[['N','P','K','temperature','humidity','ph','rainfall']]\n",
    "target = df['label']\n",
    "labels = df['label']"
   ]
  },
  {
   "cell_type": "code",
   "execution_count": null,
   "id": "57ab2ac2",
   "metadata": {},
   "outputs": [],
   "source": []
  },
  {
   "cell_type": "code",
   "execution_count": 8,
   "id": "bb141c2c",
   "metadata": {},
   "outputs": [],
   "source": [
    "## Here,I'm initializing empty lists to append all model's name and corresponding name\n",
    "acc = []\n",
    "model = []\n"
   ]
  },
  {
   "cell_type": "code",
   "execution_count": 9,
   "id": "9c3c096b",
   "metadata": {},
   "outputs": [],
   "source": [
    "# Now, Splitting data into train and test data\n",
    "\n",
    "from sklearn.model_selection import train_test_split\n",
    "\n",
    "Xtrain,Xtest,Ytrain,Ytest = train_test_split(features,target,test_size = 0.2,random_state = 2)"
   ]
  },
  {
   "cell_type": "code",
   "execution_count": 10,
   "id": "6ab167b7",
   "metadata": {
    "scrolled": true
   },
   "outputs": [
    {
     "data": {
      "text/html": [
       "<div>\n",
       "<style scoped>\n",
       "    .dataframe tbody tr th:only-of-type {\n",
       "        vertical-align: middle;\n",
       "    }\n",
       "\n",
       "    .dataframe tbody tr th {\n",
       "        vertical-align: top;\n",
       "    }\n",
       "\n",
       "    .dataframe thead th {\n",
       "        text-align: right;\n",
       "    }\n",
       "</style>\n",
       "<table border=\"1\" class=\"dataframe\">\n",
       "  <thead>\n",
       "    <tr style=\"text-align: right;\">\n",
       "      <th></th>\n",
       "      <th>N</th>\n",
       "      <th>P</th>\n",
       "      <th>K</th>\n",
       "      <th>temperature</th>\n",
       "      <th>humidity</th>\n",
       "      <th>ph</th>\n",
       "      <th>rainfall</th>\n",
       "    </tr>\n",
       "  </thead>\n",
       "  <tbody>\n",
       "    <tr>\n",
       "      <th>1936</th>\n",
       "      <td>113</td>\n",
       "      <td>38</td>\n",
       "      <td>25</td>\n",
       "      <td>22.000851</td>\n",
       "      <td>79.472710</td>\n",
       "      <td>7.388266</td>\n",
       "      <td>90.422242</td>\n",
       "    </tr>\n",
       "    <tr>\n",
       "      <th>610</th>\n",
       "      <td>28</td>\n",
       "      <td>35</td>\n",
       "      <td>22</td>\n",
       "      <td>29.530376</td>\n",
       "      <td>86.733460</td>\n",
       "      <td>7.156563</td>\n",
       "      <td>59.872321</td>\n",
       "    </tr>\n",
       "    <tr>\n",
       "      <th>372</th>\n",
       "      <td>11</td>\n",
       "      <td>61</td>\n",
       "      <td>21</td>\n",
       "      <td>18.623288</td>\n",
       "      <td>23.024103</td>\n",
       "      <td>5.532101</td>\n",
       "      <td>135.337803</td>\n",
       "    </tr>\n",
       "    <tr>\n",
       "      <th>1559</th>\n",
       "      <td>29</td>\n",
       "      <td>139</td>\n",
       "      <td>205</td>\n",
       "      <td>23.641424</td>\n",
       "      <td>93.744615</td>\n",
       "      <td>6.155939</td>\n",
       "      <td>116.691218</td>\n",
       "    </tr>\n",
       "    <tr>\n",
       "      <th>1500</th>\n",
       "      <td>24</td>\n",
       "      <td>128</td>\n",
       "      <td>196</td>\n",
       "      <td>22.750888</td>\n",
       "      <td>90.694892</td>\n",
       "      <td>5.521467</td>\n",
       "      <td>110.431786</td>\n",
       "    </tr>\n",
       "    <tr>\n",
       "      <th>...</th>\n",
       "      <td>...</td>\n",
       "      <td>...</td>\n",
       "      <td>...</td>\n",
       "      <td>...</td>\n",
       "      <td>...</td>\n",
       "      <td>...</td>\n",
       "      <td>...</td>\n",
       "    </tr>\n",
       "    <tr>\n",
       "      <th>1071</th>\n",
       "      <td>105</td>\n",
       "      <td>88</td>\n",
       "      <td>54</td>\n",
       "      <td>25.787498</td>\n",
       "      <td>84.511942</td>\n",
       "      <td>6.020445</td>\n",
       "      <td>114.200546</td>\n",
       "    </tr>\n",
       "    <tr>\n",
       "      <th>433</th>\n",
       "      <td>27</td>\n",
       "      <td>71</td>\n",
       "      <td>23</td>\n",
       "      <td>23.453790</td>\n",
       "      <td>46.487148</td>\n",
       "      <td>7.109598</td>\n",
       "      <td>150.871220</td>\n",
       "    </tr>\n",
       "    <tr>\n",
       "      <th>674</th>\n",
       "      <td>23</td>\n",
       "      <td>39</td>\n",
       "      <td>22</td>\n",
       "      <td>29.256493</td>\n",
       "      <td>81.979522</td>\n",
       "      <td>6.864839</td>\n",
       "      <td>42.024833</td>\n",
       "    </tr>\n",
       "    <tr>\n",
       "      <th>1099</th>\n",
       "      <td>117</td>\n",
       "      <td>81</td>\n",
       "      <td>53</td>\n",
       "      <td>29.507046</td>\n",
       "      <td>78.205856</td>\n",
       "      <td>5.507642</td>\n",
       "      <td>98.125658</td>\n",
       "    </tr>\n",
       "    <tr>\n",
       "      <th>1608</th>\n",
       "      <td>39</td>\n",
       "      <td>24</td>\n",
       "      <td>14</td>\n",
       "      <td>30.554726</td>\n",
       "      <td>90.903438</td>\n",
       "      <td>7.189260</td>\n",
       "      <td>106.071198</td>\n",
       "    </tr>\n",
       "  </tbody>\n",
       "</table>\n",
       "<p>1760 rows × 7 columns</p>\n",
       "</div>"
      ],
      "text/plain": [
       "        N    P    K  temperature   humidity        ph    rainfall\n",
       "1936  113   38   25    22.000851  79.472710  7.388266   90.422242\n",
       "610    28   35   22    29.530376  86.733460  7.156563   59.872321\n",
       "372    11   61   21    18.623288  23.024103  5.532101  135.337803\n",
       "1559   29  139  205    23.641424  93.744615  6.155939  116.691218\n",
       "1500   24  128  196    22.750888  90.694892  5.521467  110.431786\n",
       "...   ...  ...  ...          ...        ...       ...         ...\n",
       "1071  105   88   54    25.787498  84.511942  6.020445  114.200546\n",
       "433    27   71   23    23.453790  46.487148  7.109598  150.871220\n",
       "674    23   39   22    29.256493  81.979522  6.864839   42.024833\n",
       "1099  117   81   53    29.507046  78.205856  5.507642   98.125658\n",
       "1608   39   24   14    30.554726  90.903438  7.189260  106.071198\n",
       "\n",
       "[1760 rows x 7 columns]"
      ]
     },
     "execution_count": 10,
     "metadata": {},
     "output_type": "execute_result"
    }
   ],
   "source": [
    "# Here, trying to visulize train-test data\n",
    "Xtrain\n",
    "# Xtest\n",
    "# Ytrain\n",
    "# Ytest"
   ]
  },
  {
   "cell_type": "markdown",
   "id": "a6693a4d",
   "metadata": {},
   "source": [
    "### Label Encoding of Data"
   ]
  },
  {
   "cell_type": "code",
   "execution_count": 11,
   "id": "d1cc93cf",
   "metadata": {},
   "outputs": [
    {
     "data": {
      "text/plain": [
       "array(['apple', 'banana', 'blackgram', 'chickpea', 'coconut', 'coffee',\n",
       "       'cotton', 'grapes', 'jute', 'kidneybeans', 'lentil', 'maize',\n",
       "       'mango', 'mothbeans', 'mungbean', 'muskmelon', 'orange', 'papaya',\n",
       "       'pigeonpeas', 'pomegranate', 'rice', 'watermelon'], dtype=object)"
      ]
     },
     "execution_count": 11,
     "metadata": {},
     "output_type": "execute_result"
    }
   ],
   "source": [
    "## Convert Ytrain into Numbers from categoories\n",
    "\n",
    "from sklearn.preprocessing import LabelEncoder\n",
    "le = LabelEncoder()\n",
    "\n",
    "le.fit(Ytrain)\n",
    "\n",
    "le.classes_"
   ]
  },
  {
   "cell_type": "code",
   "execution_count": 12,
   "id": "fc901513",
   "metadata": {},
   "outputs": [],
   "source": [
    "Ytrain = le.transform(Ytrain)\n",
    "Ytest = le.transform(Ytest)"
   ]
  },
  {
   "cell_type": "code",
   "execution_count": 13,
   "id": "b6c73f1c",
   "metadata": {
    "scrolled": true
   },
   "outputs": [
    {
     "data": {
      "text/plain": [
       "array([ 6, 14,  9, ..., 14,  1, 16])"
      ]
     },
     "execution_count": 13,
     "metadata": {},
     "output_type": "execute_result"
    }
   ],
   "source": [
    "Ytrain"
   ]
  },
  {
   "cell_type": "markdown",
   "id": "eb9915e9",
   "metadata": {},
   "source": [
    "### Feature Scaling, Normalization applied on features"
   ]
  },
  {
   "cell_type": "code",
   "execution_count": 14,
   "id": "8a518b33",
   "metadata": {},
   "outputs": [],
   "source": [
    "from sklearn.preprocessing import MinMaxScaler\n",
    "\n",
    "scaler = MinMaxScaler()\n",
    "\n",
    "# Fit the scaler to the train set,it will learn the parameters\n",
    "scaler.fit(Xtrain)\n",
    "\n",
    "# Transform train and test sets\n",
    "Xtrain_scaled =  scaler.transform(Xtrain)\n",
    "Xtest_scaled =  scaler.transform(Xtest)\n"
   ]
  },
  {
   "cell_type": "code",
   "execution_count": 15,
   "id": "d270e431",
   "metadata": {},
   "outputs": [],
   "source": [
    "# Here, we converting a Array into Pandas DataFrame\n",
    "\n",
    "Xtrain_scaled = pd.DataFrame(Xtrain_scaled, columns=Xtrain.columns)\n",
    "Xtest_scaled = pd.DataFrame(Xtest_scaled,columns=Xtest.columns)"
   ]
  },
  {
   "cell_type": "code",
   "execution_count": 16,
   "id": "29778319",
   "metadata": {},
   "outputs": [
    {
     "data": {
      "text/html": [
       "<div>\n",
       "<style scoped>\n",
       "    .dataframe tbody tr th:only-of-type {\n",
       "        vertical-align: middle;\n",
       "    }\n",
       "\n",
       "    .dataframe tbody tr th {\n",
       "        vertical-align: top;\n",
       "    }\n",
       "\n",
       "    .dataframe thead th {\n",
       "        text-align: right;\n",
       "    }\n",
       "</style>\n",
       "<table border=\"1\" class=\"dataframe\">\n",
       "  <thead>\n",
       "    <tr style=\"text-align: right;\">\n",
       "      <th></th>\n",
       "      <th>N</th>\n",
       "      <th>P</th>\n",
       "      <th>K</th>\n",
       "      <th>temperature</th>\n",
       "      <th>humidity</th>\n",
       "      <th>ph</th>\n",
       "      <th>rainfall</th>\n",
       "    </tr>\n",
       "  </thead>\n",
       "  <tbody>\n",
       "    <tr>\n",
       "      <th>0</th>\n",
       "      <td>0.807143</td>\n",
       "      <td>0.235714</td>\n",
       "      <td>0.100</td>\n",
       "      <td>0.378056</td>\n",
       "      <td>0.760711</td>\n",
       "      <td>0.603936</td>\n",
       "      <td>0.252384</td>\n",
       "    </tr>\n",
       "    <tr>\n",
       "      <th>1</th>\n",
       "      <td>0.200000</td>\n",
       "      <td>0.214286</td>\n",
       "      <td>0.085</td>\n",
       "      <td>0.594112</td>\n",
       "      <td>0.845425</td>\n",
       "      <td>0.567903</td>\n",
       "      <td>0.142568</td>\n",
       "    </tr>\n",
       "    <tr>\n",
       "      <th>2</th>\n",
       "      <td>0.078571</td>\n",
       "      <td>0.400000</td>\n",
       "      <td>0.080</td>\n",
       "      <td>0.281138</td>\n",
       "      <td>0.102100</td>\n",
       "      <td>0.315279</td>\n",
       "      <td>0.413841</td>\n",
       "    </tr>\n",
       "    <tr>\n",
       "      <th>3</th>\n",
       "      <td>0.207143</td>\n",
       "      <td>0.957143</td>\n",
       "      <td>1.000</td>\n",
       "      <td>0.425131</td>\n",
       "      <td>0.927227</td>\n",
       "      <td>0.412294</td>\n",
       "      <td>0.346812</td>\n",
       "    </tr>\n",
       "    <tr>\n",
       "      <th>4</th>\n",
       "      <td>0.171429</td>\n",
       "      <td>0.878571</td>\n",
       "      <td>0.955</td>\n",
       "      <td>0.399578</td>\n",
       "      <td>0.891645</td>\n",
       "      <td>0.313625</td>\n",
       "      <td>0.324312</td>\n",
       "    </tr>\n",
       "    <tr>\n",
       "      <th>...</th>\n",
       "      <td>...</td>\n",
       "      <td>...</td>\n",
       "      <td>...</td>\n",
       "      <td>...</td>\n",
       "      <td>...</td>\n",
       "      <td>...</td>\n",
       "      <td>...</td>\n",
       "    </tr>\n",
       "    <tr>\n",
       "      <th>1755</th>\n",
       "      <td>0.750000</td>\n",
       "      <td>0.592857</td>\n",
       "      <td>0.245</td>\n",
       "      <td>0.486712</td>\n",
       "      <td>0.819505</td>\n",
       "      <td>0.391222</td>\n",
       "      <td>0.337859</td>\n",
       "    </tr>\n",
       "    <tr>\n",
       "      <th>1756</th>\n",
       "      <td>0.192857</td>\n",
       "      <td>0.471429</td>\n",
       "      <td>0.090</td>\n",
       "      <td>0.419747</td>\n",
       "      <td>0.375853</td>\n",
       "      <td>0.560600</td>\n",
       "      <td>0.469678</td>\n",
       "    </tr>\n",
       "    <tr>\n",
       "      <th>1757</th>\n",
       "      <td>0.164286</td>\n",
       "      <td>0.242857</td>\n",
       "      <td>0.085</td>\n",
       "      <td>0.586253</td>\n",
       "      <td>0.789959</td>\n",
       "      <td>0.522537</td>\n",
       "      <td>0.078412</td>\n",
       "    </tr>\n",
       "    <tr>\n",
       "      <th>1758</th>\n",
       "      <td>0.835714</td>\n",
       "      <td>0.542857</td>\n",
       "      <td>0.240</td>\n",
       "      <td>0.593443</td>\n",
       "      <td>0.745930</td>\n",
       "      <td>0.311475</td>\n",
       "      <td>0.280076</td>\n",
       "    </tr>\n",
       "    <tr>\n",
       "      <th>1759</th>\n",
       "      <td>0.278571</td>\n",
       "      <td>0.135714</td>\n",
       "      <td>0.045</td>\n",
       "      <td>0.623505</td>\n",
       "      <td>0.894078</td>\n",
       "      <td>0.572988</td>\n",
       "      <td>0.308637</td>\n",
       "    </tr>\n",
       "  </tbody>\n",
       "</table>\n",
       "<p>1760 rows × 7 columns</p>\n",
       "</div>"
      ],
      "text/plain": [
       "             N         P      K  temperature  humidity        ph  rainfall\n",
       "0     0.807143  0.235714  0.100     0.378056  0.760711  0.603936  0.252384\n",
       "1     0.200000  0.214286  0.085     0.594112  0.845425  0.567903  0.142568\n",
       "2     0.078571  0.400000  0.080     0.281138  0.102100  0.315279  0.413841\n",
       "3     0.207143  0.957143  1.000     0.425131  0.927227  0.412294  0.346812\n",
       "4     0.171429  0.878571  0.955     0.399578  0.891645  0.313625  0.324312\n",
       "...        ...       ...    ...          ...       ...       ...       ...\n",
       "1755  0.750000  0.592857  0.245     0.486712  0.819505  0.391222  0.337859\n",
       "1756  0.192857  0.471429  0.090     0.419747  0.375853  0.560600  0.469678\n",
       "1757  0.164286  0.242857  0.085     0.586253  0.789959  0.522537  0.078412\n",
       "1758  0.835714  0.542857  0.240     0.593443  0.745930  0.311475  0.280076\n",
       "1759  0.278571  0.135714  0.045     0.623505  0.894078  0.572988  0.308637\n",
       "\n",
       "[1760 rows x 7 columns]"
      ]
     },
     "execution_count": 16,
     "metadata": {},
     "output_type": "execute_result"
    }
   ],
   "source": [
    "# Here,we look once our scaled dataframe\n",
    "\n",
    "Xtrain_scaled\n",
    "# Xtest_scaled"
   ]
  },
  {
   "cell_type": "markdown",
   "id": "bbded6e1",
   "metadata": {},
   "source": [
    "## Now, like to apply different models on this data"
   ]
  },
  {
   "cell_type": "markdown",
   "id": "0c973030",
   "metadata": {},
   "source": [
    "## Decision tree"
   ]
  },
  {
   "cell_type": "code",
   "execution_count": 17,
   "id": "793f5611",
   "metadata": {},
   "outputs": [
    {
     "name": "stdout",
     "output_type": "stream",
     "text": [
      "Decision Tree's Accuracy is:  90.0\n",
      "              precision    recall  f1-score   support\n",
      "\n",
      "           0       1.00      1.00      1.00        13\n",
      "           1       1.00      1.00      1.00        17\n",
      "           2       0.59      1.00      0.74        16\n",
      "           3       1.00      1.00      1.00        21\n",
      "           4       0.91      1.00      0.95        21\n",
      "           5       1.00      1.00      1.00        22\n",
      "           6       1.00      1.00      1.00        20\n",
      "           7       1.00      1.00      1.00        18\n",
      "           8       0.74      0.93      0.83        28\n",
      "           9       0.00      0.00      0.00        14\n",
      "          10       0.68      1.00      0.81        23\n",
      "          11       1.00      1.00      1.00        21\n",
      "          12       1.00      1.00      1.00        26\n",
      "          13       0.00      0.00      0.00        19\n",
      "          14       1.00      1.00      1.00        24\n",
      "          15       1.00      1.00      1.00        23\n",
      "          16       1.00      1.00      1.00        29\n",
      "          17       1.00      0.84      0.91        19\n",
      "          18       0.62      1.00      0.77        18\n",
      "          19       1.00      1.00      1.00        17\n",
      "          20       1.00      0.62      0.77        16\n",
      "          21       1.00      1.00      1.00        15\n",
      "\n",
      "    accuracy                           0.90       440\n",
      "   macro avg       0.84      0.88      0.85       440\n",
      "weighted avg       0.86      0.90      0.87       440\n",
      "\n"
     ]
    },
    {
     "name": "stderr",
     "output_type": "stream",
     "text": [
      "C:\\ProgramData\\anaconda3\\Lib\\site-packages\\sklearn\\metrics\\_classification.py:1469: UndefinedMetricWarning: Precision and F-score are ill-defined and being set to 0.0 in labels with no predicted samples. Use `zero_division` parameter to control this behavior.\n",
      "  _warn_prf(average, modifier, msg_start, len(result))\n",
      "C:\\ProgramData\\anaconda3\\Lib\\site-packages\\sklearn\\metrics\\_classification.py:1469: UndefinedMetricWarning: Precision and F-score are ill-defined and being set to 0.0 in labels with no predicted samples. Use `zero_division` parameter to control this behavior.\n",
      "  _warn_prf(average, modifier, msg_start, len(result))\n",
      "C:\\ProgramData\\anaconda3\\Lib\\site-packages\\sklearn\\metrics\\_classification.py:1469: UndefinedMetricWarning: Precision and F-score are ill-defined and being set to 0.0 in labels with no predicted samples. Use `zero_division` parameter to control this behavior.\n",
      "  _warn_prf(average, modifier, msg_start, len(result))\n"
     ]
    }
   ],
   "source": [
    "from sklearn.tree import DecisionTreeClassifier\n",
    "\n",
    "DecisionTree = DecisionTreeClassifier(criterion = \"entropy\",random_state=2,max_depth=5)\n",
    "\n",
    "DecisionTree.fit(Xtrain_scaled,Ytrain)\n",
    "\n",
    "predicted_values = DecisionTree.predict(Xtest_scaled)\n",
    "x = metrics.accuracy_score(Ytest,predicted_values)\n",
    "acc.append(x*100)\n",
    "model.append('Decision Tree')\n",
    "print(\"Decision Tree's Accuracy is: \",x*100)\n",
    "\n",
    "print(classification_report(Ytest,predicted_values))"
   ]
  },
  {
   "cell_type": "code",
   "execution_count": null,
   "id": "51385853",
   "metadata": {},
   "outputs": [],
   "source": []
  },
  {
   "cell_type": "markdown",
   "id": "e4cb0425",
   "metadata": {},
   "source": [
    "## Gaussian Naive Bayes"
   ]
  },
  {
   "cell_type": "code",
   "execution_count": 18,
   "id": "f905fc91",
   "metadata": {},
   "outputs": [
    {
     "name": "stdout",
     "output_type": "stream",
     "text": [
      "Naive Bayes's Accuracy is:  99.0909090909091\n",
      "              precision    recall  f1-score   support\n",
      "\n",
      "           0       1.00      1.00      1.00        13\n",
      "           1       1.00      1.00      1.00        17\n",
      "           2       1.00      1.00      1.00        16\n",
      "           3       1.00      1.00      1.00        21\n",
      "           4       1.00      1.00      1.00        21\n",
      "           5       1.00      1.00      1.00        22\n",
      "           6       1.00      1.00      1.00        20\n",
      "           7       1.00      1.00      1.00        18\n",
      "           8       0.88      1.00      0.93        28\n",
      "           9       1.00      1.00      1.00        14\n",
      "          10       1.00      1.00      1.00        23\n",
      "          11       1.00      1.00      1.00        21\n",
      "          12       1.00      1.00      1.00        26\n",
      "          13       1.00      1.00      1.00        19\n",
      "          14       1.00      1.00      1.00        24\n",
      "          15       1.00      1.00      1.00        23\n",
      "          16       1.00      1.00      1.00        29\n",
      "          17       1.00      1.00      1.00        19\n",
      "          18       1.00      1.00      1.00        18\n",
      "          19       1.00      1.00      1.00        17\n",
      "          20       1.00      0.75      0.86        16\n",
      "          21       1.00      1.00      1.00        15\n",
      "\n",
      "    accuracy                           0.99       440\n",
      "   macro avg       0.99      0.99      0.99       440\n",
      "weighted avg       0.99      0.99      0.99       440\n",
      "\n"
     ]
    }
   ],
   "source": [
    "from sklearn.naive_bayes import GaussianNB\n",
    "\n",
    "NaiveBayes = GaussianNB()\n",
    "\n",
    "NaiveBayes.fit(Xtrain_scaled,Ytrain)\n",
    "\n",
    "predicted_values = NaiveBayes.predict(Xtest_scaled)\n",
    "\n",
    "x =metrics.accuracy_score(Ytest, predicted_values)\n",
    "acc.append(x*100)\n",
    "model.append('Naive Bayes')\n",
    "\n",
    "print(\"Naive Bayes's Accuracy is: \", x*100)\n",
    "\n",
    "print(classification_report(Ytest,predicted_values))\n"
   ]
  },
  {
   "cell_type": "markdown",
   "id": "063dbd2d",
   "metadata": {},
   "source": [
    "## Support Vector Machine (SVM)"
   ]
  },
  {
   "cell_type": "code",
   "execution_count": 19,
   "id": "1c6dbc28",
   "metadata": {},
   "outputs": [
    {
     "name": "stdout",
     "output_type": "stream",
     "text": [
      "SVM's Accuracy is:  10.681818181818182\n",
      "              precision    recall  f1-score   support\n",
      "\n",
      "           0       1.00      0.23      0.38        13\n",
      "           1       1.00      0.24      0.38        17\n",
      "           2       1.00      0.19      0.32        16\n",
      "           3       1.00      0.05      0.09        21\n",
      "           4       1.00      0.05      0.09        21\n",
      "           5       0.00      0.00      0.00        22\n",
      "           6       1.00      0.05      0.10        20\n",
      "           7       1.00      0.06      0.11        18\n",
      "           8       1.00      0.07      0.13        28\n",
      "           9       0.03      1.00      0.07        14\n",
      "          10       0.00      0.00      0.00        23\n",
      "          11       0.00      0.00      0.00        21\n",
      "          12       0.00      0.00      0.00        26\n",
      "          13       0.00      0.00      0.00        19\n",
      "          14       1.00      0.12      0.22        24\n",
      "          15       1.00      0.30      0.47        23\n",
      "          16       1.00      0.03      0.07        29\n",
      "          17       1.00      0.05      0.10        19\n",
      "          18       0.00      0.00      0.00        18\n",
      "          19       1.00      0.12      0.21        17\n",
      "          20       0.50      0.06      0.11        16\n",
      "          21       1.00      0.13      0.24        15\n",
      "\n",
      "    accuracy                           0.11       440\n",
      "   macro avg       0.66      0.13      0.14       440\n",
      "weighted avg       0.66      0.11      0.13       440\n",
      "\n"
     ]
    },
    {
     "name": "stderr",
     "output_type": "stream",
     "text": [
      "C:\\ProgramData\\anaconda3\\Lib\\site-packages\\sklearn\\metrics\\_classification.py:1469: UndefinedMetricWarning: Precision and F-score are ill-defined and being set to 0.0 in labels with no predicted samples. Use `zero_division` parameter to control this behavior.\n",
      "  _warn_prf(average, modifier, msg_start, len(result))\n",
      "C:\\ProgramData\\anaconda3\\Lib\\site-packages\\sklearn\\metrics\\_classification.py:1469: UndefinedMetricWarning: Precision and F-score are ill-defined and being set to 0.0 in labels with no predicted samples. Use `zero_division` parameter to control this behavior.\n",
      "  _warn_prf(average, modifier, msg_start, len(result))\n",
      "C:\\ProgramData\\anaconda3\\Lib\\site-packages\\sklearn\\metrics\\_classification.py:1469: UndefinedMetricWarning: Precision and F-score are ill-defined and being set to 0.0 in labels with no predicted samples. Use `zero_division` parameter to control this behavior.\n",
      "  _warn_prf(average, modifier, msg_start, len(result))\n"
     ]
    }
   ],
   "source": [
    "from sklearn.svm import SVC \n",
    "\n",
    "SVM = SVC(gamma='auto')\n",
    "\n",
    "SVM.fit(Xtrain, Ytrain)\n",
    "\n",
    "predicted_values = SVM.predict(Xtest)\n",
    "\n",
    "x = metrics.accuracy_score(Ytest,predicted_values)\n",
    "acc.append(x*100)\n",
    "model.append('SVM')\n",
    "print(\"SVM's Accuracy is: \", x*100)\n",
    "\n",
    "print(classification_report(Ytest,predicted_values))\n"
   ]
  },
  {
   "cell_type": "markdown",
   "id": "14897d2d",
   "metadata": {},
   "source": [
    "## Logistic Regression"
   ]
  },
  {
   "cell_type": "code",
   "execution_count": 20,
   "id": "998acfd5",
   "metadata": {
    "scrolled": true
   },
   "outputs": [
    {
     "name": "stdout",
     "output_type": "stream",
     "text": [
      "Logistics Regression's Accuracy is:  95.22727272727273\n",
      "              precision    recall  f1-score   support\n",
      "\n",
      "           0       1.00      1.00      1.00        13\n",
      "           1       1.00      1.00      1.00        17\n",
      "           2       0.86      0.75      0.80        16\n",
      "           3       1.00      1.00      1.00        21\n",
      "           4       1.00      1.00      1.00        21\n",
      "           5       1.00      1.00      1.00        22\n",
      "           6       0.86      0.90      0.88        20\n",
      "           7       1.00      1.00      1.00        18\n",
      "           8       0.84      0.93      0.88        28\n",
      "           9       1.00      1.00      1.00        14\n",
      "          10       0.88      1.00      0.94        23\n",
      "          11       0.90      0.86      0.88        21\n",
      "          12       0.96      1.00      0.98        26\n",
      "          13       0.84      0.84      0.84        19\n",
      "          14       1.00      0.96      0.98        24\n",
      "          15       1.00      1.00      1.00        23\n",
      "          16       1.00      1.00      1.00        29\n",
      "          17       1.00      0.95      0.97        19\n",
      "          18       1.00      1.00      1.00        18\n",
      "          19       1.00      1.00      1.00        17\n",
      "          20       0.85      0.69      0.76        16\n",
      "          21       1.00      1.00      1.00        15\n",
      "\n",
      "    accuracy                           0.95       440\n",
      "   macro avg       0.95      0.95      0.95       440\n",
      "weighted avg       0.95      0.95      0.95       440\n",
      "\n"
     ]
    },
    {
     "name": "stderr",
     "output_type": "stream",
     "text": [
      "C:\\ProgramData\\anaconda3\\Lib\\site-packages\\sklearn\\linear_model\\_logistic.py:460: ConvergenceWarning: lbfgs failed to converge (status=1):\n",
      "STOP: TOTAL NO. of ITERATIONS REACHED LIMIT.\n",
      "\n",
      "Increase the number of iterations (max_iter) or scale the data as shown in:\n",
      "    https://scikit-learn.org/stable/modules/preprocessing.html\n",
      "Please also refer to the documentation for alternative solver options:\n",
      "    https://scikit-learn.org/stable/modules/linear_model.html#logistic-regression\n",
      "  n_iter_i = _check_optimize_result(\n"
     ]
    }
   ],
   "source": [
    "from sklearn.linear_model import LogisticRegression\n",
    "\n",
    "LogReg = LogisticRegression(random_state=2)\n",
    "\n",
    "LogReg.fit(Xtrain,Ytrain)\n",
    "\n",
    "predicted_values = LogReg.predict(Xtest)\n",
    "\n",
    "x = metrics.accuracy_score(Ytest, predicted_values)\n",
    "\n",
    "acc.append(x*100)\n",
    "model.append('Logistic Regression')\n",
    "print(\"Logistics Regression's Accuracy is: \",x*100)\n",
    "\n",
    "print(classification_report(Ytest,predicted_values))\n"
   ]
  },
  {
   "cell_type": "code",
   "execution_count": 21,
   "id": "fcea6dfd",
   "metadata": {
    "scrolled": true
   },
   "outputs": [
    {
     "name": "stdout",
     "output_type": "stream",
     "text": [
      "Logistic Regression on Scaled data Accuracy is:  90.22727272727272\n",
      "              precision    recall  f1-score   support\n",
      "\n",
      "           0       1.00      1.00      1.00        13\n",
      "           1       1.00      1.00      1.00        17\n",
      "           2       0.82      0.88      0.85        16\n",
      "           3       1.00      1.00      1.00        21\n",
      "           4       0.91      1.00      0.95        21\n",
      "           5       1.00      1.00      1.00        22\n",
      "           6       0.83      1.00      0.91        20\n",
      "           7       1.00      1.00      1.00        18\n",
      "           8       1.00      0.46      0.63        28\n",
      "           9       1.00      1.00      1.00        14\n",
      "          10       0.88      1.00      0.94        23\n",
      "          11       1.00      0.81      0.89        21\n",
      "          12       0.84      1.00      0.91        26\n",
      "          13       1.00      0.58      0.73        19\n",
      "          14       0.86      1.00      0.92        24\n",
      "          15       1.00      1.00      1.00        23\n",
      "          16       1.00      0.83      0.91        29\n",
      "          17       0.92      0.58      0.71        19\n",
      "          18       1.00      0.94      0.97        18\n",
      "          19       0.89      1.00      0.94        17\n",
      "          20       0.46      1.00      0.63        16\n",
      "          21       1.00      1.00      1.00        15\n",
      "\n",
      "    accuracy                           0.90       440\n",
      "   macro avg       0.93      0.91      0.90       440\n",
      "weighted avg       0.93      0.90      0.90       440\n",
      "\n"
     ]
    }
   ],
   "source": [
    "## Logistic Regression with Scaled data\n",
    "\n",
    "from sklearn.linear_model import LogisticRegression\n",
    "\n",
    "LogReg_scl = LogisticRegression(random_state = 2)\n",
    "\n",
    "LogReg_scl.fit(Xtrain_scaled,Ytrain)\n",
    "\n",
    "predicted_values = LogReg_scl.predict(Xtest_scaled)\n",
    "\n",
    "x = metrics.accuracy_score(Ytest, predicted_values)\n",
    "acc.append(x*100)\n",
    "model.append('Logistic Regression on Scaled data')\n",
    "print(\"Logistic Regression on Scaled data Accuracy is: \",x*100)\n",
    "\n",
    "print(classification_report(Ytest,predicted_values))"
   ]
  },
  {
   "cell_type": "markdown",
   "id": "1793829a",
   "metadata": {},
   "source": [
    "## Random Forest"
   ]
  },
  {
   "cell_type": "code",
   "execution_count": 22,
   "id": "331d3195",
   "metadata": {},
   "outputs": [
    {
     "name": "stdout",
     "output_type": "stream",
     "text": [
      "Random forest's Accuracy is:  99.0909090909091\n",
      "              precision    recall  f1-score   support\n",
      "\n",
      "           0       1.00      1.00      1.00        13\n",
      "           1       1.00      1.00      1.00        17\n",
      "           2       0.94      1.00      0.97        16\n",
      "           3       1.00      1.00      1.00        21\n",
      "           4       1.00      1.00      1.00        21\n",
      "           5       1.00      1.00      1.00        22\n",
      "           6       1.00      1.00      1.00        20\n",
      "           7       1.00      1.00      1.00        18\n",
      "           8       0.90      1.00      0.95        28\n",
      "           9       1.00      1.00      1.00        14\n",
      "          10       1.00      1.00      1.00        23\n",
      "          11       1.00      1.00      1.00        21\n",
      "          12       1.00      1.00      1.00        26\n",
      "          13       1.00      0.95      0.97        19\n",
      "          14       1.00      1.00      1.00        24\n",
      "          15       1.00      1.00      1.00        23\n",
      "          16       1.00      1.00      1.00        29\n",
      "          17       1.00      1.00      1.00        19\n",
      "          18       1.00      1.00      1.00        18\n",
      "          19       1.00      1.00      1.00        17\n",
      "          20       1.00      0.81      0.90        16\n",
      "          21       1.00      1.00      1.00        15\n",
      "\n",
      "    accuracy                           0.99       440\n",
      "   macro avg       0.99      0.99      0.99       440\n",
      "weighted avg       0.99      0.99      0.99       440\n",
      "\n"
     ]
    }
   ],
   "source": [
    "from sklearn.ensemble import RandomForestClassifier\n",
    "\n",
    "RF = RandomForestClassifier(n_estimators=20, random_state=0)\n",
    "RF.fit(Xtrain,Ytrain)\n",
    "\n",
    "predicted_values = RF.predict(Xtest)\n",
    "\n",
    "x = metrics.accuracy_score(Ytest, predicted_values)\n",
    "acc.append(x*100)\n",
    "model.append('Random Forest')\n",
    "print(\"Random forest's Accuracy is: \",x*100)\n",
    "\n",
    "print(classification_report(Ytest,predicted_values))\n"
   ]
  },
  {
   "cell_type": "code",
   "execution_count": 23,
   "id": "fab2b13e",
   "metadata": {
    "scrolled": false
   },
   "outputs": [
    {
     "data": {
      "text/plain": [
       "[90.0,\n",
       " 99.0909090909091,\n",
       " 10.681818181818182,\n",
       " 95.22727272727273,\n",
       " 90.22727272727272,\n",
       " 99.0909090909091]"
      ]
     },
     "execution_count": 23,
     "metadata": {},
     "output_type": "execute_result"
    }
   ],
   "source": [
    "acc"
   ]
  },
  {
   "cell_type": "code",
   "execution_count": 24,
   "id": "64243dab",
   "metadata": {
    "scrolled": true
   },
   "outputs": [
    {
     "data": {
      "text/plain": [
       "['Decision Tree',\n",
       " 'Naive Bayes',\n",
       " 'SVM',\n",
       " 'Logistic Regression',\n",
       " 'Logistic Regression on Scaled data',\n",
       " 'Random Forest']"
      ]
     },
     "execution_count": 24,
     "metadata": {},
     "output_type": "execute_result"
    }
   ],
   "source": [
    "model"
   ]
  },
  {
   "cell_type": "markdown",
   "id": "3694a7c9",
   "metadata": {},
   "source": [
    "## Here, I'm creating a Dataframe of Accuracy with respect to Algorithm"
   ]
  },
  {
   "cell_type": "code",
   "execution_count": 25,
   "id": "b69f04e1",
   "metadata": {},
   "outputs": [
    {
     "data": {
      "text/html": [
       "<div>\n",
       "<style scoped>\n",
       "    .dataframe tbody tr th:only-of-type {\n",
       "        vertical-align: middle;\n",
       "    }\n",
       "\n",
       "    .dataframe tbody tr th {\n",
       "        vertical-align: top;\n",
       "    }\n",
       "\n",
       "    .dataframe thead th {\n",
       "        text-align: right;\n",
       "    }\n",
       "</style>\n",
       "<table border=\"1\" class=\"dataframe\">\n",
       "  <thead>\n",
       "    <tr style=\"text-align: right;\">\n",
       "      <th></th>\n",
       "      <th>Algorithm</th>\n",
       "      <th>Accuracy of Model</th>\n",
       "    </tr>\n",
       "  </thead>\n",
       "  <tbody>\n",
       "    <tr>\n",
       "      <th>0</th>\n",
       "      <td>Decision Tree</td>\n",
       "      <td>90.000000</td>\n",
       "    </tr>\n",
       "    <tr>\n",
       "      <th>1</th>\n",
       "      <td>Naive Bayes</td>\n",
       "      <td>99.090909</td>\n",
       "    </tr>\n",
       "    <tr>\n",
       "      <th>2</th>\n",
       "      <td>SVM</td>\n",
       "      <td>10.681818</td>\n",
       "    </tr>\n",
       "    <tr>\n",
       "      <th>3</th>\n",
       "      <td>Logistic Regression</td>\n",
       "      <td>95.227273</td>\n",
       "    </tr>\n",
       "    <tr>\n",
       "      <th>4</th>\n",
       "      <td>Logistic Regression on Scaled data</td>\n",
       "      <td>90.227273</td>\n",
       "    </tr>\n",
       "    <tr>\n",
       "      <th>5</th>\n",
       "      <td>Random Forest</td>\n",
       "      <td>99.090909</td>\n",
       "    </tr>\n",
       "  </tbody>\n",
       "</table>\n",
       "</div>"
      ],
      "text/plain": [
       "                            Algorithm  Accuracy of Model\n",
       "0                       Decision Tree          90.000000\n",
       "1                         Naive Bayes          99.090909\n",
       "2                                 SVM          10.681818\n",
       "3                 Logistic Regression          95.227273\n",
       "4  Logistic Regression on Scaled data          90.227273\n",
       "5                       Random Forest          99.090909"
      ]
     },
     "execution_count": 25,
     "metadata": {},
     "output_type": "execute_result"
    }
   ],
   "source": [
    "mdl_df = pd.DataFrame()\n",
    "\n",
    "mdl_df['Algorithm'] = model\n",
    "mdl_df['Accuracy of Model'] = acc\n",
    "\n",
    "mdl_df\n"
   ]
  },
  {
   "cell_type": "markdown",
   "id": "64d3f83e",
   "metadata": {},
   "source": [
    "# Accuracy Comparison"
   ]
  },
  {
   "cell_type": "code",
   "execution_count": 26,
   "id": "b08d28f8",
   "metadata": {
    "scrolled": false
   },
   "outputs": [
    {
     "data": {
      "text/plain": [
       "<Axes: title={'center': 'Accuracy Comparison'}, xlabel='Accuracy', ylabel='Algorithm'>"
      ]
     },
     "execution_count": 26,
     "metadata": {},
     "output_type": "execute_result"
    }
   ],
   "source": [
    "plt.figure(figsize=[10,5],dpi = 100)\n",
    "plt.title('Accuracy Comparison')\n",
    "plt.xlabel('Accuracy')\n",
    "plt.ylabel('Algorithm')\n",
    "sns.barplot(x = acc,y = model,palette='dark')"
   ]
  },
  {
   "cell_type": "markdown",
   "id": "96958683",
   "metadata": {},
   "source": [
    "## Making a Prediction"
   ]
  },
  {
   "cell_type": "code",
   "execution_count": 27,
   "id": "e6661184",
   "metadata": {},
   "outputs": [
    {
     "name": "stdout",
     "output_type": "stream",
     "text": [
      "[4]\n"
     ]
    },
    {
     "name": "stderr",
     "output_type": "stream",
     "text": [
      "C:\\ProgramData\\anaconda3\\Lib\\site-packages\\sklearn\\base.py:464: UserWarning: X does not have valid feature names, but RandomForestClassifier was fitted with feature names\n",
      "  warnings.warn(\n"
     ]
    }
   ],
   "source": [
    "data = np.array([[25,7, 35, 28.38, 99.18, 5.55, 189.67]])\n",
    "\n",
    "prediction = RF.predict(data)\n",
    "print(prediction)"
   ]
  },
  {
   "cell_type": "code",
   "execution_count": 28,
   "id": "85d40019",
   "metadata": {},
   "outputs": [
    {
     "name": "stdout",
     "output_type": "stream",
     "text": [
      "[8]\n"
     ]
    },
    {
     "name": "stderr",
     "output_type": "stream",
     "text": [
      "C:\\ProgramData\\anaconda3\\Lib\\site-packages\\sklearn\\base.py:464: UserWarning: X does not have valid feature names, but RandomForestClassifier was fitted with feature names\n",
      "  warnings.warn(\n"
     ]
    }
   ],
   "source": [
    "data = np.array([[83, 45, 60, 28, 70.3, 7.0, 150.9]])\n",
    "prediction = RF.predict(data)\n",
    "print(prediction)"
   ]
  }
 ],
 "metadata": {
  "kernelspec": {
   "display_name": "Python 3 (ipykernel)",
   "language": "python",
   "name": "python3"
  },
  "language_info": {
   "codemirror_mode": {
    "name": "ipython",
    "version": 3
   },
   "file_extension": ".py",
   "mimetype": "text/x-python",
   "name": "python",
   "nbconvert_exporter": "python",
   "pygments_lexer": "ipython3",
   "version": "3.11.4"
  },
  "widgets": {
   "application/vnd.jupyter.widget-state+json": {
    "state": {
     "00f894f73986400a8d40570a4089ebde": {
      "model_module": "@jupyter-widgets/base",
      "model_module_version": "2.0.0",
      "model_name": "LayoutModel",
      "state": {}
     },
     "01114c007eb14d62b1e5b47f664511f6": {
      "model_module": "@jupyter-widgets/base",
      "model_module_version": "2.0.0",
      "model_name": "LayoutModel",
      "state": {}
     },
     "02592da7d18b42adb6e5b97af50ab4b4": {
      "model_module": "@jupyter-widgets/base",
      "model_module_version": "2.0.0",
      "model_name": "LayoutModel",
      "state": {}
     },
     "047c5021dab44f03948b3d92762860ad": {
      "model_module": "@jupyter-widgets/controls",
      "model_module_version": "2.0.0",
      "model_name": "HTMLStyleModel",
      "state": {
       "description_width": "",
       "font_size": null,
       "text_color": null
      }
     },
     "08527be9790b40f9a657d754202db343": {
      "model_module": "@jupyter-widgets/controls",
      "model_module_version": "2.0.0",
      "model_name": "HTMLStyleModel",
      "state": {
       "description_width": "",
       "font_size": null,
       "text_color": null
      }
     },
     "096be4c48a3c4d4cbc553d8f813a3d2a": {
      "model_module": "@jupyter-widgets/controls",
      "model_module_version": "2.0.0",
      "model_name": "HTMLStyleModel",
      "state": {
       "description_width": "",
       "font_size": null,
       "text_color": null
      }
     },
     "0bee91efb82b4c40aa785cc5abf1e9f0": {
      "model_module": "@jupyter-widgets/controls",
      "model_module_version": "2.0.0",
      "model_name": "ProgressStyleModel",
      "state": {
       "description_width": ""
      }
     },
     "0eeee4cf6ad84ef1bcafbd5ed59dd966": {
      "model_module": "@jupyter-widgets/base",
      "model_module_version": "2.0.0",
      "model_name": "LayoutModel",
      "state": {}
     },
     "144b4ee0dcbf40098819c6145b48be6c": {
      "model_module": "@jupyter-widgets/controls",
      "model_module_version": "2.0.0",
      "model_name": "HTMLModel",
      "state": {
       "layout": "IPY_MODEL_0eeee4cf6ad84ef1bcafbd5ed59dd966",
       "style": "IPY_MODEL_2b7ca1de4ff0414fb8a50c245c29400f",
       "value": "Export report to file: 100%"
      }
     },
     "18b99cad7524415fb32b51f50e7f4835": {
      "model_module": "@jupyter-widgets/controls",
      "model_module_version": "2.0.0",
      "model_name": "ProgressStyleModel",
      "state": {
       "description_width": ""
      }
     },
     "1e6d559cd61b4ae8845adae2f6658840": {
      "model_module": "@jupyter-widgets/base",
      "model_module_version": "2.0.0",
      "model_name": "LayoutModel",
      "state": {}
     },
     "216d895f53004a5e83b4348370eeaee9": {
      "model_module": "@jupyter-widgets/base",
      "model_module_version": "2.0.0",
      "model_name": "LayoutModel",
      "state": {}
     },
     "270c0c65f5124dbaa219dc31c16d5419": {
      "model_module": "@jupyter-widgets/controls",
      "model_module_version": "2.0.0",
      "model_name": "HBoxModel",
      "state": {
       "children": [
        "IPY_MODEL_48815ae706d74404bb1ff76f4bbbd5e8",
        "IPY_MODEL_2f403b3587bc4f91a7a1e300b86ec46f",
        "IPY_MODEL_9f2c53fdad284536b53aebb0b74034e7"
       ],
       "layout": "IPY_MODEL_5543e7795e5c41788a761ba0eb813d28"
      }
     },
     "2b7ca1de4ff0414fb8a50c245c29400f": {
      "model_module": "@jupyter-widgets/controls",
      "model_module_version": "2.0.0",
      "model_name": "HTMLStyleModel",
      "state": {
       "description_width": "",
       "font_size": null,
       "text_color": null
      }
     },
     "2dd6892c04a34e2bbf7d3a75492d23b5": {
      "model_module": "@jupyter-widgets/base",
      "model_module_version": "2.0.0",
      "model_name": "LayoutModel",
      "state": {}
     },
     "2f403b3587bc4f91a7a1e300b86ec46f": {
      "model_module": "@jupyter-widgets/controls",
      "model_module_version": "2.0.0",
      "model_name": "FloatProgressModel",
      "state": {
       "bar_style": "success",
       "layout": "IPY_MODEL_8a91f79ec0144b30934bb30427603d35",
       "max": 5,
       "style": "IPY_MODEL_0bee91efb82b4c40aa785cc5abf1e9f0",
       "value": 5
      }
     },
     "3109b1a911864eb88076e35df825b623": {
      "model_module": "@jupyter-widgets/controls",
      "model_module_version": "2.0.0",
      "model_name": "FloatProgressModel",
      "state": {
       "bar_style": "success",
       "layout": "IPY_MODEL_a5cbd3ac3ced4bed885fb8bb2286f261",
       "max": 5,
       "style": "IPY_MODEL_f37d011d6012443591ba08417243e80c",
       "value": 5
      }
     },
     "320cfe1384aa455c9b03c01e0f5679bd": {
      "model_module": "@jupyter-widgets/base",
      "model_module_version": "2.0.0",
      "model_name": "LayoutModel",
      "state": {}
     },
     "357ead56a4574a0e82a9d62727522ed5": {
      "model_module": "@jupyter-widgets/controls",
      "model_module_version": "2.0.0",
      "model_name": "HTMLStyleModel",
      "state": {
       "description_width": "",
       "font_size": null,
       "text_color": null
      }
     },
     "3ac6e7c197ea4ac6b20699c9b5631c85": {
      "model_module": "@jupyter-widgets/controls",
      "model_module_version": "2.0.0",
      "model_name": "ProgressStyleModel",
      "state": {
       "description_width": ""
      }
     },
     "3ad79531deda419ead2ec02d77825593": {
      "model_module": "@jupyter-widgets/base",
      "model_module_version": "2.0.0",
      "model_name": "LayoutModel",
      "state": {}
     },
     "3aec209487564995b63a2a9a3afa843c": {
      "model_module": "@jupyter-widgets/base",
      "model_module_version": "2.0.0",
      "model_name": "LayoutModel",
      "state": {}
     },
     "3cd9dcbe69d644e0bf82dc1169d24ab0": {
      "model_module": "@jupyter-widgets/controls",
      "model_module_version": "2.0.0",
      "model_name": "ProgressStyleModel",
      "state": {
       "description_width": ""
      }
     },
     "40666320aa2840d097b4d63cdb67beaa": {
      "model_module": "@jupyter-widgets/base",
      "model_module_version": "2.0.0",
      "model_name": "LayoutModel",
      "state": {}
     },
     "44154082bf75412198d76a3d89a888f0": {
      "model_module": "@jupyter-widgets/base",
      "model_module_version": "2.0.0",
      "model_name": "LayoutModel",
      "state": {}
     },
     "44cb10fe5b6a4a309fb0be6ca60dc996": {
      "model_module": "@jupyter-widgets/controls",
      "model_module_version": "2.0.0",
      "model_name": "HTMLModel",
      "state": {
       "layout": "IPY_MODEL_8f402a0d237c431b934086f6a28cfd1c",
       "style": "IPY_MODEL_fcde95f83f4d4a6eb52bff0ea14a83a5",
       "value": " 1/1 [00:00&lt;00:00, 32.60it/s]"
      }
     },
     "481714aabe6445c99643f6f6f3293cbc": {
      "model_module": "@jupyter-widgets/controls",
      "model_module_version": "2.0.0",
      "model_name": "HBoxModel",
      "state": {
       "children": [
        "IPY_MODEL_88f5b15ba57f47ff8e327aaf8fe6c9a2",
        "IPY_MODEL_8381dace2e884aaf9992d390a71c8b77",
        "IPY_MODEL_c560e91ae2624b99afe82b7e01d3468a"
       ],
       "layout": "IPY_MODEL_1e6d559cd61b4ae8845adae2f6658840"
      }
     },
     "48815ae706d74404bb1ff76f4bbbd5e8": {
      "model_module": "@jupyter-widgets/controls",
      "model_module_version": "2.0.0",
      "model_name": "HTMLModel",
      "state": {
       "layout": "IPY_MODEL_44154082bf75412198d76a3d89a888f0",
       "style": "IPY_MODEL_dc20e43bc4ae492db246f118f339ca1b",
       "value": "Summarize dataset: 100%"
      }
     },
     "49feb3e7baa045278de0d2c458999a79": {
      "model_module": "@jupyter-widgets/controls",
      "model_module_version": "2.0.0",
      "model_name": "HTMLModel",
      "state": {
       "layout": "IPY_MODEL_c383ce9b208e4233b03bdd313054cb1d",
       "style": "IPY_MODEL_e3df872aa219468c88245077b7d4d28b",
       "value": " 1/1 [00:00&lt;00:00, 26.33it/s]"
      }
     },
     "4ac373aa166343cfbf5b24d1754392d6": {
      "model_module": "@jupyter-widgets/controls",
      "model_module_version": "2.0.0",
      "model_name": "FloatProgressModel",
      "state": {
       "bar_style": "success",
       "layout": "IPY_MODEL_52792e782ed84ba6a27782d753a721c1",
       "max": 1,
       "style": "IPY_MODEL_3cd9dcbe69d644e0bf82dc1169d24ab0",
       "value": 1
      }
     },
     "52792e782ed84ba6a27782d753a721c1": {
      "model_module": "@jupyter-widgets/base",
      "model_module_version": "2.0.0",
      "model_name": "LayoutModel",
      "state": {}
     },
     "531a1dad3ea349c09e640138d89505e4": {
      "model_module": "@jupyter-widgets/controls",
      "model_module_version": "2.0.0",
      "model_name": "HTMLStyleModel",
      "state": {
       "description_width": "",
       "font_size": null,
       "text_color": null
      }
     },
     "537f42ca6130475582929c2a66586b58": {
      "model_module": "@jupyter-widgets/controls",
      "model_module_version": "2.0.0",
      "model_name": "HBoxModel",
      "state": {
       "children": [
        "IPY_MODEL_688019aa3f8644ec81a917fea7637089",
        "IPY_MODEL_90b785f0737547c39b714623f27b1122",
        "IPY_MODEL_8d21b7c0675a45e2a05a446743943537"
       ],
       "layout": "IPY_MODEL_b43a7767c3c945128b2047b2e14a1dec"
      }
     },
     "5543e7795e5c41788a761ba0eb813d28": {
      "model_module": "@jupyter-widgets/base",
      "model_module_version": "2.0.0",
      "model_name": "LayoutModel",
      "state": {}
     },
     "5fe91b2cecff47dc9d4c515a763ed603": {
      "model_module": "@jupyter-widgets/base",
      "model_module_version": "2.0.0",
      "model_name": "LayoutModel",
      "state": {}
     },
     "60b1004c22cd4f7eb11cc988c2886f38": {
      "model_module": "@jupyter-widgets/base",
      "model_module_version": "2.0.0",
      "model_name": "LayoutModel",
      "state": {}
     },
     "61afbcdb9eab493897effa06b21164d8": {
      "model_module": "@jupyter-widgets/controls",
      "model_module_version": "2.0.0",
      "model_name": "HTMLStyleModel",
      "state": {
       "description_width": "",
       "font_size": null,
       "text_color": null
      }
     },
     "645784b822824bcba89e65ef3deb7f11": {
      "model_module": "@jupyter-widgets/controls",
      "model_module_version": "2.0.0",
      "model_name": "HTMLStyleModel",
      "state": {
       "description_width": "",
       "font_size": null,
       "text_color": null
      }
     },
     "682abdb9dbca4f228b05734a0e30f530": {
      "model_module": "@jupyter-widgets/controls",
      "model_module_version": "2.0.0",
      "model_name": "HTMLStyleModel",
      "state": {
       "description_width": "",
       "font_size": null,
       "text_color": null
      }
     },
     "688019aa3f8644ec81a917fea7637089": {
      "model_module": "@jupyter-widgets/controls",
      "model_module_version": "2.0.0",
      "model_name": "HTMLModel",
      "state": {
       "layout": "IPY_MODEL_fb54d6d726a64126b54c3683ab905bec",
       "style": "IPY_MODEL_9eb096fe6e6b45b483b7f39c19eeee6f",
       "value": "Render HTML: 100%"
      }
     },
     "6f03f260e2794c6dbf69fb9a197d82af": {
      "model_module": "@jupyter-widgets/controls",
      "model_module_version": "2.0.0",
      "model_name": "HTMLModel",
      "state": {
       "layout": "IPY_MODEL_c829f5331bc74251bda1c225badbb3ed",
       "style": "IPY_MODEL_047c5021dab44f03948b3d92762860ad",
       "value": "Render HTML: 100%"
      }
     },
     "6fd67d37dc85469ab8a5fd38963ea2cb": {
      "model_module": "@jupyter-widgets/base",
      "model_module_version": "2.0.0",
      "model_name": "LayoutModel",
      "state": {}
     },
     "728070508a1e450da90cec1e7940ff77": {
      "model_module": "@jupyter-widgets/controls",
      "model_module_version": "2.0.0",
      "model_name": "FloatProgressModel",
      "state": {
       "bar_style": "success",
       "layout": "IPY_MODEL_60b1004c22cd4f7eb11cc988c2886f38",
       "max": 1,
       "style": "IPY_MODEL_18b99cad7524415fb32b51f50e7f4835",
       "value": 1
      }
     },
     "7db33e94b7e144b69d6edc1e828edbd1": {
      "model_module": "@jupyter-widgets/controls",
      "model_module_version": "2.0.0",
      "model_name": "HTMLModel",
      "state": {
       "layout": "IPY_MODEL_216d895f53004a5e83b4348370eeaee9",
       "style": "IPY_MODEL_61afbcdb9eab493897effa06b21164d8",
       "value": " 1/1 [00:02&lt;00:00,  2.35s/it]"
      }
     },
     "7fe8efa3490648e29dc35f5e83b51368": {
      "model_module": "@jupyter-widgets/base",
      "model_module_version": "2.0.0",
      "model_name": "LayoutModel",
      "state": {}
     },
     "82351ae0e7b44bc1a372ee6406439e07": {
      "model_module": "@jupyter-widgets/controls",
      "model_module_version": "2.0.0",
      "model_name": "HBoxModel",
      "state": {
       "children": [
        "IPY_MODEL_6f03f260e2794c6dbf69fb9a197d82af",
        "IPY_MODEL_728070508a1e450da90cec1e7940ff77",
        "IPY_MODEL_7db33e94b7e144b69d6edc1e828edbd1"
       ],
       "layout": "IPY_MODEL_320cfe1384aa455c9b03c01e0f5679bd"
      }
     },
     "8280fe5f6fda45839c868351fedaf0e5": {
      "model_module": "@jupyter-widgets/controls",
      "model_module_version": "2.0.0",
      "model_name": "HTMLModel",
      "state": {
       "layout": "IPY_MODEL_3aec209487564995b63a2a9a3afa843c",
       "style": "IPY_MODEL_a40d3c774cf748f283e6772499031834",
       "value": "Summarize dataset: 100%"
      }
     },
     "8381dace2e884aaf9992d390a71c8b77": {
      "model_module": "@jupyter-widgets/controls",
      "model_module_version": "2.0.0",
      "model_name": "FloatProgressModel",
      "state": {
       "bar_style": "success",
       "layout": "IPY_MODEL_7fe8efa3490648e29dc35f5e83b51368",
       "max": 1,
       "style": "IPY_MODEL_ff406a6b62744996aacd4ce47a9100d6",
       "value": 1
      }
     },
     "856476eadcc741109e6b234ac999acc2": {
      "model_module": "@jupyter-widgets/base",
      "model_module_version": "2.0.0",
      "model_name": "LayoutModel",
      "state": {}
     },
     "88f5b15ba57f47ff8e327aaf8fe6c9a2": {
      "model_module": "@jupyter-widgets/controls",
      "model_module_version": "2.0.0",
      "model_name": "HTMLModel",
      "state": {
       "layout": "IPY_MODEL_5fe91b2cecff47dc9d4c515a763ed603",
       "style": "IPY_MODEL_096be4c48a3c4d4cbc553d8f813a3d2a",
       "value": "Generate report structure: 100%"
      }
     },
     "8a91f79ec0144b30934bb30427603d35": {
      "model_module": "@jupyter-widgets/base",
      "model_module_version": "2.0.0",
      "model_name": "LayoutModel",
      "state": {}
     },
     "8d21b7c0675a45e2a05a446743943537": {
      "model_module": "@jupyter-widgets/controls",
      "model_module_version": "2.0.0",
      "model_name": "HTMLModel",
      "state": {
       "layout": "IPY_MODEL_3ad79531deda419ead2ec02d77825593",
       "style": "IPY_MODEL_ff46411e85e34d32afca83583d428c43",
       "value": " 1/1 [00:02&lt;00:00,  2.61s/it]"
      }
     },
     "8f402a0d237c431b934086f6a28cfd1c": {
      "model_module": "@jupyter-widgets/base",
      "model_module_version": "2.0.0",
      "model_name": "LayoutModel",
      "state": {}
     },
     "90b785f0737547c39b714623f27b1122": {
      "model_module": "@jupyter-widgets/controls",
      "model_module_version": "2.0.0",
      "model_name": "FloatProgressModel",
      "state": {
       "bar_style": "success",
       "layout": "IPY_MODEL_2dd6892c04a34e2bbf7d3a75492d23b5",
       "max": 1,
       "style": "IPY_MODEL_fab483808d7f4dae93b2b21bd17f2c70",
       "value": 1
      }
     },
     "924dfc7b383d49e3a41d3fd318b28ce2": {
      "model_module": "@jupyter-widgets/base",
      "model_module_version": "2.0.0",
      "model_name": "LayoutModel",
      "state": {}
     },
     "9a4bb8383b4b4f96bf9512a1a0313e9d": {
      "model_module": "@jupyter-widgets/controls",
      "model_module_version": "2.0.0",
      "model_name": "HBoxModel",
      "state": {
       "children": [
        "IPY_MODEL_ed1b4278739e4c00abe5a20f856b9938",
        "IPY_MODEL_4ac373aa166343cfbf5b24d1754392d6",
        "IPY_MODEL_cb2d6ff3111241f193bf2073b6a9b89d"
       ],
       "layout": "IPY_MODEL_a9fcca00ddaa42abb787a896e794c962"
      }
     },
     "9eb096fe6e6b45b483b7f39c19eeee6f": {
      "model_module": "@jupyter-widgets/controls",
      "model_module_version": "2.0.0",
      "model_name": "HTMLStyleModel",
      "state": {
       "description_width": "",
       "font_size": null,
       "text_color": null
      }
     },
     "9f2c53fdad284536b53aebb0b74034e7": {
      "model_module": "@jupyter-widgets/controls",
      "model_module_version": "2.0.0",
      "model_name": "HTMLModel",
      "state": {
       "layout": "IPY_MODEL_01114c007eb14d62b1e5b47f664511f6",
       "style": "IPY_MODEL_645784b822824bcba89e65ef3deb7f11",
       "value": " 66/66 [00:13&lt;00:00,  4.46it/s, Completed]"
      }
     },
     "a2eebbaf95484c5985608a8fe8363e44": {
      "model_module": "@jupyter-widgets/base",
      "model_module_version": "2.0.0",
      "model_name": "LayoutModel",
      "state": {}
     },
     "a40d3c774cf748f283e6772499031834": {
      "model_module": "@jupyter-widgets/controls",
      "model_module_version": "2.0.0",
      "model_name": "HTMLStyleModel",
      "state": {
       "description_width": "",
       "font_size": null,
       "text_color": null
      }
     },
     "a5cbd3ac3ced4bed885fb8bb2286f261": {
      "model_module": "@jupyter-widgets/base",
      "model_module_version": "2.0.0",
      "model_name": "LayoutModel",
      "state": {}
     },
     "a9fcca00ddaa42abb787a896e794c962": {
      "model_module": "@jupyter-widgets/base",
      "model_module_version": "2.0.0",
      "model_name": "LayoutModel",
      "state": {}
     },
     "aa788d977e3c4906b2d52e65e4b8e17b": {
      "model_module": "@jupyter-widgets/controls",
      "model_module_version": "2.0.0",
      "model_name": "FloatProgressModel",
      "state": {
       "bar_style": "success",
       "layout": "IPY_MODEL_a2eebbaf95484c5985608a8fe8363e44",
       "max": 1,
       "style": "IPY_MODEL_3ac6e7c197ea4ac6b20699c9b5631c85",
       "value": 1
      }
     },
     "aecafe92a5474ff29fbe80116fb3adfb": {
      "model_module": "@jupyter-widgets/base",
      "model_module_version": "2.0.0",
      "model_name": "LayoutModel",
      "state": {}
     },
     "aee470bce8d94b41ba718145875af528": {
      "model_module": "@jupyter-widgets/controls",
      "model_module_version": "2.0.0",
      "model_name": "HBoxModel",
      "state": {
       "children": [
        "IPY_MODEL_8280fe5f6fda45839c868351fedaf0e5",
        "IPY_MODEL_3109b1a911864eb88076e35df825b623",
        "IPY_MODEL_e79fce2d329340d1847074134da49e1b"
       ],
       "layout": "IPY_MODEL_856476eadcc741109e6b234ac999acc2"
      }
     },
     "b43a7767c3c945128b2047b2e14a1dec": {
      "model_module": "@jupyter-widgets/base",
      "model_module_version": "2.0.0",
      "model_name": "LayoutModel",
      "state": {}
     },
     "c383ce9b208e4233b03bdd313054cb1d": {
      "model_module": "@jupyter-widgets/base",
      "model_module_version": "2.0.0",
      "model_name": "LayoutModel",
      "state": {}
     },
     "c560e91ae2624b99afe82b7e01d3468a": {
      "model_module": "@jupyter-widgets/controls",
      "model_module_version": "2.0.0",
      "model_name": "HTMLModel",
      "state": {
       "layout": "IPY_MODEL_6fd67d37dc85469ab8a5fd38963ea2cb",
       "style": "IPY_MODEL_08527be9790b40f9a657d754202db343",
       "value": " 1/1 [00:04&lt;00:00,  4.26s/it]"
      }
     },
     "c829f5331bc74251bda1c225badbb3ed": {
      "model_module": "@jupyter-widgets/base",
      "model_module_version": "2.0.0",
      "model_name": "LayoutModel",
      "state": {}
     },
     "cb2d6ff3111241f193bf2073b6a9b89d": {
      "model_module": "@jupyter-widgets/controls",
      "model_module_version": "2.0.0",
      "model_name": "HTMLModel",
      "state": {
       "layout": "IPY_MODEL_924dfc7b383d49e3a41d3fd318b28ce2",
       "style": "IPY_MODEL_357ead56a4574a0e82a9d62727522ed5",
       "value": " 1/1 [00:04&lt;00:00,  4.81s/it]"
      }
     },
     "cc9485960fed46f59e131a0f4d9e6106": {
      "model_module": "@jupyter-widgets/controls",
      "model_module_version": "2.0.0",
      "model_name": "HBoxModel",
      "state": {
       "children": [
        "IPY_MODEL_e1c18532206a434282e118618f78cbfd",
        "IPY_MODEL_e3a7a2e7744a4b4bb3d759164e654c70",
        "IPY_MODEL_49feb3e7baa045278de0d2c458999a79"
       ],
       "layout": "IPY_MODEL_d8bbfb04cf1c44578bcafbc3727aa72e"
      }
     },
     "d8bbfb04cf1c44578bcafbc3727aa72e": {
      "model_module": "@jupyter-widgets/base",
      "model_module_version": "2.0.0",
      "model_name": "LayoutModel",
      "state": {}
     },
     "dc20e43bc4ae492db246f118f339ca1b": {
      "model_module": "@jupyter-widgets/controls",
      "model_module_version": "2.0.0",
      "model_name": "HTMLStyleModel",
      "state": {
       "description_width": "",
       "font_size": null,
       "text_color": null
      }
     },
     "e1c18532206a434282e118618f78cbfd": {
      "model_module": "@jupyter-widgets/controls",
      "model_module_version": "2.0.0",
      "model_name": "HTMLModel",
      "state": {
       "layout": "IPY_MODEL_aecafe92a5474ff29fbe80116fb3adfb",
       "style": "IPY_MODEL_531a1dad3ea349c09e640138d89505e4",
       "value": "Export report to file: 100%"
      }
     },
     "e3a7a2e7744a4b4bb3d759164e654c70": {
      "model_module": "@jupyter-widgets/controls",
      "model_module_version": "2.0.0",
      "model_name": "FloatProgressModel",
      "state": {
       "bar_style": "success",
       "layout": "IPY_MODEL_f3665387ceb94049ab984fedaa9582e9",
       "max": 1,
       "style": "IPY_MODEL_fbbce9f5dae546209472052ae5b394d1",
       "value": 1
      }
     },
     "e3df872aa219468c88245077b7d4d28b": {
      "model_module": "@jupyter-widgets/controls",
      "model_module_version": "2.0.0",
      "model_name": "HTMLStyleModel",
      "state": {
       "description_width": "",
       "font_size": null,
       "text_color": null
      }
     },
     "e7787d779cc242c6a6c3aafe624cc1f6": {
      "model_module": "@jupyter-widgets/controls",
      "model_module_version": "2.0.0",
      "model_name": "HTMLStyleModel",
      "state": {
       "description_width": "",
       "font_size": null,
       "text_color": null
      }
     },
     "e79fce2d329340d1847074134da49e1b": {
      "model_module": "@jupyter-widgets/controls",
      "model_module_version": "2.0.0",
      "model_name": "HTMLModel",
      "state": {
       "layout": "IPY_MODEL_02592da7d18b42adb6e5b97af50ab4b4",
       "style": "IPY_MODEL_e7787d779cc242c6a6c3aafe624cc1f6",
       "value": " 66/66 [00:12&lt;00:00,  4.52it/s, Completed]"
      }
     },
     "ed1b4278739e4c00abe5a20f856b9938": {
      "model_module": "@jupyter-widgets/controls",
      "model_module_version": "2.0.0",
      "model_name": "HTMLModel",
      "state": {
       "layout": "IPY_MODEL_40666320aa2840d097b4d63cdb67beaa",
       "style": "IPY_MODEL_682abdb9dbca4f228b05734a0e30f530",
       "value": "Generate report structure: 100%"
      }
     },
     "f3665387ceb94049ab984fedaa9582e9": {
      "model_module": "@jupyter-widgets/base",
      "model_module_version": "2.0.0",
      "model_name": "LayoutModel",
      "state": {}
     },
     "f37d011d6012443591ba08417243e80c": {
      "model_module": "@jupyter-widgets/controls",
      "model_module_version": "2.0.0",
      "model_name": "ProgressStyleModel",
      "state": {
       "description_width": ""
      }
     },
     "f7b634a2fd1d40f0b28e1a4f229754dd": {
      "model_module": "@jupyter-widgets/controls",
      "model_module_version": "2.0.0",
      "model_name": "HBoxModel",
      "state": {
       "children": [
        "IPY_MODEL_144b4ee0dcbf40098819c6145b48be6c",
        "IPY_MODEL_aa788d977e3c4906b2d52e65e4b8e17b",
        "IPY_MODEL_44cb10fe5b6a4a309fb0be6ca60dc996"
       ],
       "layout": "IPY_MODEL_00f894f73986400a8d40570a4089ebde"
      }
     },
     "fab483808d7f4dae93b2b21bd17f2c70": {
      "model_module": "@jupyter-widgets/controls",
      "model_module_version": "2.0.0",
      "model_name": "ProgressStyleModel",
      "state": {
       "description_width": ""
      }
     },
     "fb54d6d726a64126b54c3683ab905bec": {
      "model_module": "@jupyter-widgets/base",
      "model_module_version": "2.0.0",
      "model_name": "LayoutModel",
      "state": {}
     },
     "fbbce9f5dae546209472052ae5b394d1": {
      "model_module": "@jupyter-widgets/controls",
      "model_module_version": "2.0.0",
      "model_name": "ProgressStyleModel",
      "state": {
       "description_width": ""
      }
     },
     "fcde95f83f4d4a6eb52bff0ea14a83a5": {
      "model_module": "@jupyter-widgets/controls",
      "model_module_version": "2.0.0",
      "model_name": "HTMLStyleModel",
      "state": {
       "description_width": "",
       "font_size": null,
       "text_color": null
      }
     },
     "ff406a6b62744996aacd4ce47a9100d6": {
      "model_module": "@jupyter-widgets/controls",
      "model_module_version": "2.0.0",
      "model_name": "ProgressStyleModel",
      "state": {
       "description_width": ""
      }
     },
     "ff46411e85e34d32afca83583d428c43": {
      "model_module": "@jupyter-widgets/controls",
      "model_module_version": "2.0.0",
      "model_name": "HTMLStyleModel",
      "state": {
       "description_width": "",
       "font_size": null,
       "text_color": null
      }
     }
    },
    "version_major": 2,
    "version_minor": 0
   }
  }
 },
 "nbformat": 4,
 "nbformat_minor": 5
}
